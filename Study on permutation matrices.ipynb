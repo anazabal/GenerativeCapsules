{
 "cells": [
  {
   "cell_type": "code",
   "execution_count": 80,
   "metadata": {},
   "outputs": [],
   "source": [
    "import numpy as np\n",
    "from itertools import permutations, combinations, product\n",
    "from functools import reduce\n",
    "from math import factorial\n",
    "from sympy.solvers import solve\n",
    "from sympy import Symbol"
   ]
  },
  {
   "cell_type": "code",
   "execution_count": 2,
   "metadata": {},
   "outputs": [],
   "source": [
    "D = 3\n",
    "bases = np.eye(D)\n",
    "permutation_bases = list(permutations(bases,D))"
   ]
  },
  {
   "cell_type": "code",
   "execution_count": 3,
   "metadata": {},
   "outputs": [],
   "source": [
    "#Get all permutation matrices\n",
    "perm_matrices = []\n",
    "for perm in permutation_bases:\n",
    "    perm_matrices.append(np.array([elem.tolist() for elem in perm]))"
   ]
  },
  {
   "cell_type": "code",
   "execution_count": 86,
   "metadata": {},
   "outputs": [],
   "source": [
    "#Assign probabilities to each matrix\n",
    "probs = np.random.rand(len(perm_matrices))\n",
    "probs = probs/np.sum(probs)\n",
    "probs = np.array([0.2,0.1,0.4,0,0.2,0.1])\n",
    "probs = np.array([0.2571428571428572, 0.042857142857142864, 0.34285714285714286, 0.057142857142857134, 0.2571428571428572, 0.042857142857142864])\n",
    "# probs = np.array([0.25,0.05,0.35,0.05,0.25,0.05])\n",
    "# probs = np.array([0,0.1,0.15,0.2,0.25,0.3])\n",
    "# probs = np.array([0.054, 0.014, 0.811, 0.054, 0.054, 0.014])\n",
    "# probs = np.array([0.9,0,0,0.1,0,0])"
   ]
  },
  {
   "cell_type": "code",
   "execution_count": 87,
   "metadata": {},
   "outputs": [],
   "source": [
    "#Compute probabilities of each term in a permutation matrix being one\n",
    "probs_elements = np.sum([p*matrix for p, matrix in zip(probs, perm_matrices)],0)"
   ]
  },
  {
   "cell_type": "code",
   "execution_count": 88,
   "metadata": {},
   "outputs": [],
   "source": [
    "#Compute unnormalized probabilities of each matrix\n",
    "# unnorm_probs = np.array([np.sum(probs_elements*matrix) for matrix in perm_matrices]) #With sum of elements\n",
    "unnorm_probs = np.array([np.prod(np.sum(probs_elements*matrix,0)) for matrix in perm_matrices]) #With prod of elements"
   ]
  },
  {
   "cell_type": "code",
   "execution_count": 89,
   "metadata": {},
   "outputs": [
    {
     "data": {
      "text/plain": [
       "array([0.054, 0.009, 0.144, 0.004, 0.054, 0.009])"
      ]
     },
     "execution_count": 89,
     "metadata": {},
     "output_type": "execute_result"
    }
   ],
   "source": [
    "unnorm_probs"
   ]
  },
  {
   "cell_type": "code",
   "execution_count": 90,
   "metadata": {},
   "outputs": [
    {
     "name": "stdout",
     "output_type": "stream",
     "text": [
      "[0.25714286 0.04285714 0.34285714 0.05714286 0.25714286 0.04285714]\n",
      "[0.054 0.009 0.144 0.004 0.054 0.009]\n",
      "[0.19708029 0.03284672 0.52554745 0.01459854 0.19708029 0.03284672]\n"
     ]
    }
   ],
   "source": [
    "print(probs)\n",
    "print(unnorm_probs)\n",
    "print(unnorm_probs/np.sum(unnorm_probs))"
   ]
  },
  {
   "cell_type": "code",
   "execution_count": 91,
   "metadata": {},
   "outputs": [],
   "source": [
    "a = np.zeros(factorial(D))\n",
    "for nn, (x,y) in enumerate(zip(probs,unnorm_probs)):\n",
    "    if y == 0:\n",
    "        a[nn] = 0\n",
    "    else:\n",
    "        a[nn] = x/y"
   ]
  },
  {
   "cell_type": "code",
   "execution_count": 92,
   "metadata": {},
   "outputs": [
    {
     "data": {
      "text/plain": [
       "0.0010000000000000002"
      ]
     },
     "execution_count": 92,
     "metadata": {},
     "output_type": "execute_result"
    }
   ],
   "source": [
    "0.1**3"
   ]
  },
  {
   "cell_type": "code",
   "execution_count": 93,
   "metadata": {},
   "outputs": [
    {
     "data": {
      "text/plain": [
       "array([0.25714286, 0.04285714, 0.34285714, 0.05714286, 0.25714286,\n",
       "       0.04285714])"
      ]
     },
     "execution_count": 93,
     "metadata": {},
     "output_type": "execute_result"
    }
   ],
   "source": [
    "probs"
   ]
  },
  {
   "cell_type": "code",
   "execution_count": 94,
   "metadata": {},
   "outputs": [
    {
     "data": {
      "text/plain": [
       "array([[0.3, 0.4, 0.3],\n",
       "       [0.6, 0.3, 0.1],\n",
       "       [0.1, 0.3, 0.6]])"
      ]
     },
     "execution_count": 94,
     "metadata": {},
     "output_type": "execute_result"
    }
   ],
   "source": [
    "probs_elements"
   ]
  },
  {
   "cell_type": "code",
   "execution_count": 70,
   "metadata": {},
   "outputs": [
    {
     "data": {
      "text/plain": [
       "[array([[1., 0., 0.],\n",
       "        [0., 1., 0.],\n",
       "        [0., 0., 1.]]),\n",
       " array([[1., 0., 0.],\n",
       "        [0., 0., 1.],\n",
       "        [0., 1., 0.]]),\n",
       " array([[0., 1., 0.],\n",
       "        [1., 0., 0.],\n",
       "        [0., 0., 1.]]),\n",
       " array([[0., 1., 0.],\n",
       "        [0., 0., 1.],\n",
       "        [1., 0., 0.]]),\n",
       " array([[0., 0., 1.],\n",
       "        [1., 0., 0.],\n",
       "        [0., 1., 0.]]),\n",
       " array([[0., 0., 1.],\n",
       "        [0., 1., 0.],\n",
       "        [1., 0., 0.]])]"
      ]
     },
     "execution_count": 70,
     "metadata": {},
     "output_type": "execute_result"
    }
   ],
   "source": [
    "perm_matrices"
   ]
  },
  {
   "cell_type": "code",
   "execution_count": 85,
   "metadata": {},
   "outputs": [
    {
     "name": "stdout",
     "output_type": "stream",
     "text": [
      "[0.8571428571428572, 0.14285714285714285]\n",
      "[0.30000000000000004, 0.39999999999999997, 0.30000000000000004]\n",
      "[0.2571428571428572, 0.042857142857142864, 0.34285714285714286, 0.057142857142857134, 0.2571428571428572, 0.042857142857142864]\n"
     ]
    }
   ],
   "source": [
    "b1 = probs_elements[2,2]/(probs_elements[1,2]+probs_elements[2,2])\n",
    "b2 = probs_elements[1,2]/(probs_elements[1,2]+probs_elements[2,2])\n",
    "c3 = probs_elements[0,2]\n",
    "c1 = (probs_elements[1,1]-probs_elements[0,2]*(1-probs_elements[1,0]))/probs_elements[2,2]\n",
    "c2 = ((probs_elements[0,1]-probs_elements[2,0])*(1-probs_elements[0,2]) + probs_elements[0,2]*probs_elements[1,2])/probs_elements[2,2]\n",
    "print([b1, b2])\n",
    "print([c1, c2, c3])\n",
    "print(list(map(np.prod,product([c1,c2,c3],[b1,b2]))))"
   ]
  },
  {
   "cell_type": "code",
   "execution_count": 46,
   "metadata": {},
   "outputs": [],
   "source": [
    "a_2 = probs[1]+probs[2]+probs[5]\n",
    "a_1 = probs[1]*probs[2] + probs[1]*probs[5] + probs[5]*probs[2]\n",
    "a_0 = probs[1]*probs[2]*probs[5] - unnorm_probs[3]"
   ]
  },
  {
   "cell_type": "code",
   "execution_count": 47,
   "metadata": {},
   "outputs": [
    {
     "data": {
      "text/plain": [
       "[-0.300000000000000, 0.0]"
      ]
     },
     "execution_count": 47,
     "metadata": {},
     "output_type": "execute_result"
    }
   ],
   "source": [
    "x = Symbol('x')\n",
    "solve(x**3 +x**2*a_2 + x*a_1 + a_0, x)"
   ]
  },
  {
   "cell_type": "code",
   "execution_count": 48,
   "metadata": {},
   "outputs": [
    {
     "data": {
      "text/plain": [
       "array([0.054, 0.009, 0.144, 0.004, 0.054, 0.009])"
      ]
     },
     "execution_count": 48,
     "metadata": {},
     "output_type": "execute_result"
    }
   ],
   "source": [
    "unnorm_probs"
   ]
  },
  {
   "cell_type": "code",
   "execution_count": 49,
   "metadata": {},
   "outputs": [
    {
     "data": {
      "text/plain": [
       "array([0.2, 0.1, 0.4, 0. , 0.2, 0.1])"
      ]
     },
     "execution_count": 49,
     "metadata": {},
     "output_type": "execute_result"
    }
   ],
   "source": [
    "probs"
   ]
  },
  {
   "cell_type": "code",
   "execution_count": null,
   "metadata": {},
   "outputs": [],
   "source": []
  }
 ],
 "metadata": {
  "kernelspec": {
   "display_name": "Python 3",
   "language": "python",
   "name": "python3"
  },
  "language_info": {
   "codemirror_mode": {
    "name": "ipython",
    "version": 3
   },
   "file_extension": ".py",
   "mimetype": "text/x-python",
   "name": "python",
   "nbconvert_exporter": "python",
   "pygments_lexer": "ipython3",
   "version": "3.6.10"
  }
 },
 "nbformat": 4,
 "nbformat_minor": 4
}
